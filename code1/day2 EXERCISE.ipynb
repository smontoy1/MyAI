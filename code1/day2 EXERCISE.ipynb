{
 "cells": [
  {
   "cell_type": "markdown",
   "id": "d15d8294-3328-4e07-ad16-8a03e9bbfdb9",
   "metadata": {},
   "source": [
    "# Welcome to your first assignment!\n",
    "\n",
    "Instructions are below. Please give this a try, and look in the solutions folder if you get stuck (or feel free to ask me!)"
   ]
  },
  {
   "cell_type": "markdown",
   "id": "ada885d9-4d42-4d9b-97f0-74fbbbfe93a9",
   "metadata": {},
   "source": [
    "<table style=\"margin: 0; text-align: left;\">\n",
    "    <tr>\n",
    "        <td style=\"width: 150px; height: 150px; vertical-align: middle;\">\n",
    "            <img src=\"../resources.jpg\" width=\"150\" height=\"150\" style=\"display: block;\" />\n",
    "        </td>\n",
    "        <td>\n",
    "            <h2 style=\"color:#f71;\">Just before we get to the assignment --</h2>\n",
    "            <span style=\"color:#f71;\">I thought I'd take a second to point you at this page of useful resources for the course. This includes links to all the slides.<br/>\n",
    "            <a href=\"https://edwarddonner.com/2024/11/13/llm-engineering-resources/\">https://edwarddonner.com/2024/11/13/llm-engineering-resources/</a><br/>\n",
    "            Please keep this bookmarked, and I'll continue to add more useful links there over time.\n",
    "            </span>\n",
    "        </td>\n",
    "    </tr>\n",
    "</table>"
   ]
  },
  {
   "cell_type": "markdown",
   "id": "6e9fa1fc-eac5-4d1d-9be4-541b3f2b3458",
   "metadata": {},
   "source": [
    "# HOMEWORK EXERCISE ASSIGNMENT\n",
    "\n",
    "Upgrade the day 1 project to summarize a webpage to use an Open Source model running locally via Ollama rather than OpenAI\n",
    "\n",
    "You'll be able to use this technique for all subsequent projects if you'd prefer not to use paid APIs.\n",
    "\n",
    "**Benefits:**\n",
    "1. No API charges - open-source\n",
    "2. Data doesn't leave your box\n",
    "\n",
    "**Disadvantages:**\n",
    "1. Significantly less power than Frontier Model\n",
    "\n",
    "## Recap on installation of Ollama\n",
    "\n",
    "Simply visit [ollama.com](https://ollama.com) and install!\n",
    "\n",
    "Once complete, the ollama server should already be running locally.  \n",
    "If you visit:  \n",
    "[http://localhost:11434/](http://localhost:11434/)\n",
    "\n",
    "You should see the message `Ollama is running`.  \n",
    "\n",
    "If not, bring up a new Terminal (Mac) or Powershell (Windows) and enter `ollama serve`  \n",
    "And in another Terminal (Mac) or Powershell (Windows), enter `ollama pull llama3.2`  \n",
    "Then try [http://localhost:11434/](http://localhost:11434/) again.\n",
    "\n",
    "If Ollama is slow on your machine, try using `llama3.2:1b` as an alternative. Run `ollama pull llama3.2:1b` from a Terminal or Powershell, and change the code below from `MODEL = \"llama3.2\"` to `MODEL = \"llama3.2:1b\"`"
   ]
  },
  {
   "cell_type": "code",
   "execution_count": 1,
   "id": "4e2a9393-7767-488e-a8bf-27c12dca35bd",
   "metadata": {},
   "outputs": [],
   "source": [
    "# imports\n",
    "\n",
    "import requests\n",
    "from bs4 import BeautifulSoup\n",
    "from IPython.display import Markdown, display"
   ]
  },
  {
   "cell_type": "code",
   "execution_count": 2,
   "id": "29ddd15d-a3c5-4f4e-a678-873f56162724",
   "metadata": {},
   "outputs": [],
   "source": [
    "# Constants\n",
    "\n",
    "OLLAMA_API = \"http://localhost:11434/api/chat\"\n",
    "HEADERS = {\"Content-Type\": \"application/json\"}\n",
    "MODEL = \"llama3.2\""
   ]
  },
  {
   "cell_type": "code",
   "execution_count": 4,
   "id": "dac0a679-599c-441f-9bf2-ddc73d35b940",
   "metadata": {},
   "outputs": [],
   "source": [
    "# Create a messages list using the same format that we used for OpenAI\n",
    "\n",
    "messages = [\n",
    "    {\"role\": \"user\", \"content\": \"Describe some of the business applications of Generative AI\"}\n",
    "]"
   ]
  },
  {
   "cell_type": "code",
   "execution_count": 5,
   "id": "7bb9c624-14f0-4945-a719-8ddb64f66f47",
   "metadata": {},
   "outputs": [],
   "source": [
    "payload = {\n",
    "        \"model\": MODEL,\n",
    "        \"messages\": messages,\n",
    "        \"stream\": False\n",
    "    }"
   ]
  },
  {
   "cell_type": "code",
   "execution_count": 6,
   "id": "479ff514-e8bd-4985-a572-2ea28bb4fa40",
   "metadata": {},
   "outputs": [
    {
     "name": "stdout",
     "output_type": "stream",
     "text": [
      "\u001b[?2026h\u001b[?25l\u001b[1Gpulling manifest ⠋ \u001b[K\u001b[?25h\u001b[?2026l\u001b[?2026h\u001b[?25l\u001b[1Gpulling manifest ⠙ \u001b[K\u001b[?25h\u001b[?2026l\u001b[?2026h\u001b[?25l\u001b[1Gpulling manifest ⠹ \u001b[K\u001b[?25h\u001b[?2026l\u001b[?2026h\u001b[?25l\u001b[1Gpulling manifest ⠸ \u001b[K\u001b[?25h\u001b[?2026l\u001b[?2026h\u001b[?25l\u001b[1Gpulling manifest ⠼ \u001b[K\u001b[?25h\u001b[?2026l\u001b[?2026h\u001b[?25l\u001b[1Gpulling manifest ⠴ \u001b[K\u001b[?25h\u001b[?2026l\u001b[?2026h\u001b[?25l\u001b[1Gpulling manifest ⠦ \u001b[K\u001b[?25h\u001b[?2026l\u001b[?2026h\u001b[?25l\u001b[1Gpulling manifest ⠧ \u001b[K\u001b[?25h\u001b[?2026l\u001b[?2026h\u001b[?25l\u001b[1Gpulling manifest ⠇ \u001b[K\u001b[?25h\u001b[?2026l\u001b[?2026h\u001b[?25l\u001b[1Gpulling manifest ⠏ \u001b[K\u001b[?25h\u001b[?2026l\u001b[?2026h\u001b[?25l\u001b[1Gpulling manifest ⠋ \u001b[K\u001b[?25h\u001b[?2026l\u001b[?2026h\u001b[?25l\u001b[1Gpulling manifest ⠙ \u001b[K\u001b[?25h\u001b[?2026l\u001b[?2026h\u001b[?25l\u001b[1Gpulling manifest ⠹ \u001b[K\u001b[?25h\u001b[?2026l\u001b[?2026h\u001b[?25l\u001b[1Gpulling manifest ⠸ \u001b[K\u001b[?25h\u001b[?2026l\u001b[?2026h\u001b[?25l\u001b[1Gpulling manifest ⠼ \u001b[K\u001b[?25h\u001b[?2026l\u001b[?2026h\u001b[?25l\u001b[1Gpulling manifest ⠴ \u001b[K\u001b[?25h\u001b[?2026l\u001b[?2026h\u001b[?25l\u001b[1Gpulling manifest \u001b[K\n",
      "pulling dde5aa3fc5ff... 100% ▕████████████████▏ 2.0 GB                         \u001b[K\n",
      "pulling 966de95ca8a6... 100% ▕████████████████▏ 1.4 KB                         \u001b[K\n",
      "pulling fcc5a6bec9da... 100% ▕████████████████▏ 7.7 KB                         \u001b[K\n",
      "pulling a70ff7e570d9... 100% ▕████████████████▏ 6.0 KB                         \u001b[K\n",
      "pulling 56bb8bd477a5... 100% ▕████████████████▏   96 B                         \u001b[K\n",
      "pulling 34bb5ab01051... 100% ▕████████████████▏  561 B                         \u001b[K\n",
      "verifying sha256 digest \u001b[K\n",
      "writing manifest \u001b[K\n",
      "success \u001b[K\u001b[?25h\u001b[?2026l\n"
     ]
    }
   ],
   "source": [
    "# Let's just make sure the model is loaded\n",
    "\n",
    "!ollama pull llama3.2"
   ]
  },
  {
   "cell_type": "code",
   "execution_count": 7,
   "id": "42b9f644-522d-4e05-a691-56e7658c0ea9",
   "metadata": {},
   "outputs": [
    {
     "name": "stdout",
     "output_type": "stream",
     "text": [
      "Generative AI has numerous business applications across various industries, including:\n",
      "\n",
      "1. **Content Creation**: Generative AI can generate high-quality content such as articles, blog posts, social media posts, and product descriptions. This can help businesses save time and resources on content creation, while also increasing the volume and quality of content.\n",
      "2. **Image and Video Generation**: Generative AI can generate images and videos that are indistinguishable from those created by humans. This has applications in areas such as advertising, marketing, and entertainment.\n",
      "3. **Chatbots and Virtual Assistants**: Generative AI can power chatbots and virtual assistants that can understand natural language and respond accordingly. This can help businesses provide 24/7 customer support and improve customer experience.\n",
      "4. **Predictive Maintenance**: Generative AI can analyze sensor data from machines and predict when maintenance is required, reducing downtime and increasing efficiency.\n",
      "5. **Personalized Recommendations**: Generative AI can generate personalized product recommendations based on customer behavior and preferences, improving sales and customer engagement.\n",
      "6. **Automated Writing and Editing**: Generative AI can assist with writing and editing tasks such as proofreading, grammar correction, and content optimization.\n",
      "7. **Speech Synthesis**: Generative AI can generate high-quality speech that can be used in applications such as voice assistants, audiobooks, and podcasts.\n",
      "8. **Design and Architecture**: Generative AI can generate designs for buildings, products, and other visual elements, improving design efficiency and reducing costs.\n",
      "9. **Customer Segmentation**: Generative AI can analyze customer data and segment them into distinct groups based on behavior, preferences, and demographics.\n",
      "10. **Marketing Automation**: Generative AI can automate marketing tasks such as email campaigns, social media advertising, and lead generation.\n",
      "\n",
      "Industry-specific applications of Generative AI include:\n",
      "\n",
      "1. **Healthcare**: Generating medical images, analyzing medical data, and developing personalized treatment plans.\n",
      "2. **Finance**: Analyzing financial data, generating investment recommendations, and detecting fraud.\n",
      "3. **Retail**: Generating product descriptions, optimizing pricing and inventory management, and personalizing customer experiences.\n",
      "4. **Manufacturing**: Predicting production demand, optimizing supply chain logistics, and improving product design.\n",
      "5. **Education**: Personalized learning content, adaptive assessments, and intelligent tutoring systems.\n",
      "\n",
      "Overall, Generative AI has the potential to transform various industries by automating tasks, improving efficiency, and enhancing decision-making capabilities.\n"
     ]
    }
   ],
   "source": [
    "# If this doesn't work for any reason, try the 2 versions in the following cells\n",
    "# And double check the instructions in the 'Recap on installation of Ollama' at the top of this lab\n",
    "# And if none of that works - contact me!\n",
    "\n",
    "response = requests.post(OLLAMA_API, json=payload, headers=HEADERS)\n",
    "print(response.json()['message']['content'])"
   ]
  },
  {
   "cell_type": "markdown",
   "id": "6a021f13-d6a1-4b96-8e18-4eae49d876fe",
   "metadata": {},
   "source": [
    "# Introducing the ollama package\n",
    "\n",
    "And now we'll do the same thing, but using the elegant ollama python package instead of a direct HTTP call.\n",
    "\n",
    "Under the hood, it's making the same call as above to the ollama server running at localhost:11434"
   ]
  },
  {
   "cell_type": "code",
   "execution_count": 8,
   "id": "7745b9c4-57dc-4867-9180-61fa5db55eb8",
   "metadata": {},
   "outputs": [
    {
     "name": "stdout",
     "output_type": "stream",
     "text": [
      "Generative AI has numerous business applications across various industries, including:\n",
      "\n",
      "1. **Content Creation**: AI can generate high-quality content such as articles, social media posts, product descriptions, and more. This can save time and resources for content creators and marketing teams.\n",
      "2. **Personalization**: Generative AI can analyze customer data and behavior to create personalized recommendations, offers, and experiences, improving customer engagement and loyalty.\n",
      "3. **Chatbots and Virtual Assistants**: AI-powered chatbots can provide 24/7 support, answer frequently asked questions, and route complex queries to human representatives, enhancing customer service.\n",
      "4. **Marketing Automation**: Generative AI can automate marketing tasks such as lead generation, email campaigns, and social media posting, freeing up time for more strategic activities.\n",
      "5. **Product Design and Development**: AI can assist in product design, prototyping, and testing, reducing the need for physical prototypes and accelerating the development process.\n",
      "6. **Data Analysis and Insights**: Generative AI can analyze large datasets to identify trends, patterns, and correlations, providing valuable insights for business decision-making.\n",
      "7. **Predictive Maintenance**: AI-powered predictive maintenance can help companies predict equipment failures, reducing downtime and increasing overall efficiency.\n",
      "8. **Supply Chain Optimization**: Generative AI can optimize supply chain operations by predicting demand, managing inventory, and streamlining logistics.\n",
      "9. **Customer Service and Support**: AI-powered customer service platforms can provide 24/7 support, answer frequent questions, and route complex queries to human representatives.\n",
      "10. **Creativity and Innovation**: Generative AI can assist artists, designers, and innovators in generating new ideas, exploring different design options, and prototyping products.\n",
      "\n",
      "Some specific examples of business applications of Generative AI include:\n",
      "\n",
      "* **Salesforce**: Using generative AI to personalize customer experiences, automate sales tasks, and predict customer behavior.\n",
      "* **HubSpot**: Leveraging generative AI to create personalized content, automate marketing tasks, and analyze customer data.\n",
      "* **Tesla**: Utilizing generative AI to optimize product design, improve manufacturing efficiency, and develop new features for their electric vehicles.\n",
      "\n",
      "These are just a few examples of the many business applications of Generative AI. As the technology continues to evolve, we can expect to see even more innovative uses across various industries.\n"
     ]
    }
   ],
   "source": [
    "import ollama\n",
    "\n",
    "response = ollama.chat(model=MODEL, messages=messages)\n",
    "print(response['message']['content'])"
   ]
  },
  {
   "cell_type": "markdown",
   "id": "a4704e10-f5fb-4c15-a935-f046c06fb13d",
   "metadata": {},
   "source": [
    "## Alternative approach - using OpenAI python library to connect to Ollama"
   ]
  },
  {
   "cell_type": "code",
   "execution_count": null,
   "id": "23057e00-b6fc-4678-93a9-6b31cb704bff",
   "metadata": {},
   "outputs": [],
   "source": [
    "# There's actually an alternative approach that some people might prefer\n",
    "# You can use the OpenAI client python library to call Ollama:\n",
    "\n",
    "from openai import OpenAI\n",
    "ollama_via_openai = OpenAI(base_url='http://localhost:11434/v1', api_key='ollama')\n",
    "\n",
    "response = ollama_via_openai.chat.completions.create(\n",
    "    model=MODEL,\n",
    "    messages=messages\n",
    ")\n",
    "\n",
    "print(response.choices[0].message.content)"
   ]
  },
  {
   "cell_type": "markdown",
   "id": "9f9e22da-b891-41f6-9ac9-bd0c0a5f4f44",
   "metadata": {},
   "source": [
    "## Are you confused about why that works?\n",
    "\n",
    "It seems strange, right? We just used OpenAI code to call Ollama?? What's going on?!\n",
    "\n",
    "Here's the scoop:\n",
    "\n",
    "The python class `OpenAI` is simply code written by OpenAI engineers that makes calls over the internet to an endpoint.  \n",
    "\n",
    "When you call `openai.chat.completions.create()`, this python code just makes a web request to the following url: \"https://api.openai.com/v1/chat/completions\"\n",
    "\n",
    "Code like this is known as a \"client library\" - it's just wrapper code that runs on your machine to make web requests. The actual power of GPT is running on OpenAI's cloud behind this API, not on your computer!\n",
    "\n",
    "OpenAI was so popular, that lots of other AI providers provided identical web endpoints, so you could use the same approach.\n",
    "\n",
    "So Ollama has an endpoint running on your local box at http://localhost:11434/v1/chat/completions  \n",
    "And in week 2 we'll discover that lots of other providers do this too, including Gemini and DeepSeek.\n",
    "\n",
    "And then the team at OpenAI had a great idea: they can extend their client library so you can specify a different 'base url', and use their library to call any compatible API.\n",
    "\n",
    "That's it!\n",
    "\n",
    "So when you say: `ollama_via_openai = OpenAI(base_url='http://localhost:11434/v1', api_key='ollama')`  \n",
    "Then this will make the same endpoint calls, but to Ollama instead of OpenAI."
   ]
  },
  {
   "cell_type": "markdown",
   "id": "bc7d1de3-e2ac-46ff-a302-3b4ba38c4c90",
   "metadata": {},
   "source": [
    "## Also trying the amazing reasoning model DeepSeek\n",
    "\n",
    "Here we use the version of DeepSeek-reasoner that's been distilled to 1.5B.  \n",
    "This is actually a 1.5B variant of Qwen that has been fine-tuned using synethic data generated by Deepseek R1.\n",
    "\n",
    "Other sizes of DeepSeek are [here](https://ollama.com/library/deepseek-r1) all the way up to the full 671B parameter version, which would use up 404GB of your drive and is far too large for most!"
   ]
  },
  {
   "cell_type": "code",
   "execution_count": 12,
   "id": "cf9eb44e-fe5b-47aa-b719-0bb63669ab3d",
   "metadata": {},
   "outputs": [
    {
     "name": "stdout",
     "output_type": "stream",
     "text": [
      "\u001b[?2026h\u001b[?25l\u001b[1Gpulling manifest ⠋ \u001b[K\u001b[?25h\u001b[?2026l\u001b[?2026h\u001b[?25l\u001b[1Gpulling manifest ⠙ \u001b[K\u001b[?25h\u001b[?2026l\u001b[?2026h\u001b[?25l\u001b[1Gpulling manifest ⠹ \u001b[K\u001b[?25h\u001b[?2026l\u001b[?2026h\u001b[?25l\u001b[1Gpulling manifest ⠸ \u001b[K\u001b[?25h\u001b[?2026l\u001b[?2026h\u001b[?25l\u001b[1Gpulling manifest ⠼ \u001b[K\u001b[?25h\u001b[?2026l\u001b[?2026h\u001b[?25l\u001b[1Gpulling manifest ⠴ \u001b[K\u001b[?25h\u001b[?2026l\u001b[?2026h\u001b[?25l\u001b[1Gpulling manifest ⠦ \u001b[K\u001b[?25h\u001b[?2026l\u001b[?2026h\u001b[?25l\u001b[1Gpulling manifest ⠧ \u001b[K\u001b[?25h\u001b[?2026l\u001b[?2026h\u001b[?25l\u001b[1Gpulling manifest \u001b[K\n",
      "pulling aabd4debf0c8... 100% ▕████████████████▏ 1.1 GB                         \u001b[K\n",
      "pulling 369ca498f347... 100% ▕████████████████▏  387 B                         \u001b[K\n",
      "pulling 6e4c38e1172f... 100% ▕████████████████▏ 1.1 KB                         \u001b[K\n",
      "pulling f4d24e9138dd... 100% ▕████████████████▏  148 B                         \u001b[K\n",
      "pulling a85fe2a2e58e... 100% ▕████████████████▏  487 B                         \u001b[K\n",
      "verifying sha256 digest \u001b[K\n",
      "writing manifest \u001b[K\n",
      "success \u001b[K\u001b[?25h\u001b[?2026l\n"
     ]
    }
   ],
   "source": [
    "!ollama pull deepseek-r1:1.5b"
   ]
  },
  {
   "cell_type": "code",
   "execution_count": 18,
   "id": "1d3d554b-e00d-4c08-9300-45e073950a76",
   "metadata": {
    "scrolled": true
   },
   "outputs": [
    {
     "name": "stdout",
     "output_type": "stream",
     "text": [
      "<think>\n",
      "Alright, I need to explain the core concepts behind language models. The main ones are neural networks, attention mechanisms, and transformers.\n",
      "\n",
      "Starting with neural networks, I should mention how they process information. They have layers that handle different parts of the data—like embedding for words and processing sequences using RNN or CNN architectures. Maybe also touch on deep learning because LLMs use them.\n",
      "\n",
      "Attention is next. It's about focusing on specific parts of the context. So in sentences, the model would highlight certain words or segments that are important to understand a sentence better than others. This helps in handling the complexity of natural language at scale by capturing contextual relevance.\n",
      "\n",
      "Then there's the transformer architecture, which uses self-attention within each block so units can focus on any subset of its inputs. This is similar across different model sizes, making it scalable and effective for parallel processing.\n",
      "\n",
      "Putting it all together, I can structure my explanation step by step, ensuring each concept is clearly linked to how they contribute to LLMs.\n",
      "\n",
      "I should also keep the language simple since users might not be familiar with all technical terms, but still cover the main ideas from a core perspective.\n",
      "</think>\n",
      "\n",
      "Language models (LLMs) are a type of machine learning model designed to predict the likelihood of a given sequence of events, such as the words in a text segment or the next token following a set of tokens. They are built on several key concepts and mechanisms that allow them to process and understand language at a general level.\n",
      "\n",
      "### 1. Neural Networks\n",
      "\n",
      "Neural networks are computational models inspired by the structure and function of the human brain's nervous system. They consist of layers, each composed of interconnected nodes or \"neurons\" that process and transfer information. In the context of LLMs, neural networks typically refer to deep learning-based models that house multiple layers of processing units, allowing them to capture complex patterns and relationships in data.\n",
      "\n",
      "- **Embedding Layers**: These are used for discrete tokenized data (e.g., words) and generate dense vector representations from each token. This captures the semantic and syntactic properties of the text.\n",
      "- **Feed-Forward Networks**: Composed of multiple layers where information flows in one direction, typically between embedding layers and other processing regions. These layers perform nonlinear transformations on the input data.\n",
      "- **Attention Mechanisms**: A crucial component often integrated with transformers to allow models to focus not just on the entire input sequence but any specific subset.\n",
      "\n",
      "### 2. Attention Mechanism\n",
      "\n",
      "Attention allows LLMs to understand context that is not only in a close-by window of words or tokens (like in traditional phrase-based models) but also considers arbitrary parts of the history. The basic process involves multiple layers:\n",
      "\n",
      "- **Key, Query, and Value Tensors**: Each element in the model forms three tensors: one for keys, one for queries, and another for values.\n",
      "  - *Keys*: Represent the context vector (e.g., sequence or sentence).\n",
      "  - *Query*: Usually contains a single token to focus on specific information.\n",
      "  - *Values*: The output vectors from other parts of the network that contribute to the attention score.\n",
      "- **Scoring**: The dot product between query and key is computed, which determines how relevant they are to each target word or vector. This score determines whether a matching segment in the context is important for predicting a particular input part.\n",
      "- **Attention Distribution**: After computing scores (weights), the distribution of these weights over the keys is normalized by dividing by the sum of all scored vectors. This step maps these weights into probabilities, allowing LLMs to focus on relevant contexts.\n",
      "\n",
      "### 3. The Transformer Architecture\n",
      "\n",
      "Transformers are a class of neural networks based on the transformer model that have enabled significant advances in NLP research (Vaswaa et al., 2017). Key features:\n",
      "\n",
      "- **Self-Attention**: Within each block or layer, there is self-attention, which processes all tokens at position i and outputs a distribution over these positions without any dependencies on the order of those inputs. Each token has multiple attention heads, allowing for parallel processing.\n",
      "- **Scalability**: Transformers enable parallelization, enabling models to scale with the square of input sequence length. This is done by maintaining multiple independent \" heads\" during each feed forward operation.\n",
      "- **Layer Normalization**: Following the positional and attention layers in a transformer block (as described in Vaswaa et al., 2017), layer normalization adds noise after computing features, creating an orthogonal linear transformation that stabilizes training. This technique scales by the number of parallel processing units or \"multiheads.\"\n",
      "\n",
      "### Conclusion\n",
      "\n",
      "The neural network architecture of LLMs is defined through these key components—neural networks, attention mechanisms, and transformers—that together enable models to learn and generate meaningful text.\n"
     ]
    }
   ],
   "source": [
    "# This may take a few minutes to run! You should then see a fascinating \"thinking\" trace inside <think> tags, followed by some decent definitions\n",
    "import os\n",
    "import requests\n",
    "import subprocess\n",
    "from dotenv import load_dotenv\n",
    "from bs4 import BeautifulSoup\n",
    "from IPython.display import Markdown, display\n",
    "from openai import OpenAI\n",
    "import ollama\n",
    "OLLAMA_API = \"http://localhost:11434/api/chat\"\n",
    "HEADERS = {\"Content-Type\": \"application/json\"}\n",
    "ollama_via_openai = OpenAI(base_url='http://localhost:11434/v1', api_key='ollama')\n",
    "response = ollama_via_openai.chat.completions.create(\n",
    "    model=\"deepseek-r1:1.5b\",\n",
    "    messages=[{\"role\": \"user\", \"content\": \"Please give definitions of some core concepts behind LLMs: a neural network, attention and the transformer\"}]\n",
    ")\n",
    "\n",
    "print(response.choices[0].message.content)"
   ]
  },
  {
   "cell_type": "markdown",
   "id": "1622d9bb-5c68-4d4e-9ca4-b492c751f898",
   "metadata": {},
   "source": [
    "# NOW the exercise for you\n",
    "\n",
    "Take the code from day1 and incorporate it here, to build a website summarizer that uses Llama 3.2 running locally instead of OpenAI; use either of the above approaches."
   ]
  },
  {
   "cell_type": "code",
   "execution_count": null,
   "id": "6de38216-6d1c-48c4-877b-86d403f4e0f8",
   "metadata": {},
   "outputs": [],
   "source": []
  }
 ],
 "metadata": {
  "kernelspec": {
   "display_name": "Python 3 (ipykernel)",
   "language": "python",
   "name": "python3"
  },
  "language_info": {
   "codemirror_mode": {
    "name": "ipython",
    "version": 3
   },
   "file_extension": ".py",
   "mimetype": "text/x-python",
   "name": "python",
   "nbconvert_exporter": "python",
   "pygments_lexer": "ipython3",
   "version": "3.11.11"
  }
 },
 "nbformat": 4,
 "nbformat_minor": 5
}
