{
 "cells": [
  {
   "cell_type": "markdown",
   "id": "fe12c203-e6a6-452c-a655-afb8a03a4ff5",
   "metadata": {},
   "source": [
    "# End of week 1 exercise\n",
    "\n",
    "To demonstrate your familiarity with OpenAI API, and also Ollama, build a tool that takes a technical question,  \n",
    "and responds with an explanation. This is a tool that you will be able to use yourself during the course!"
   ]
  },
  {
   "cell_type": "code",
   "execution_count": 11,
   "id": "c1070317-3ed9-4659-abe3-828943230e03",
   "metadata": {},
   "outputs": [],
   "source": [
    "# imports\n",
    "import os\n",
    "import json\n",
    "import requests\n",
    "import ollama\n",
    "from dotenv import load_dotenv\n",
    "from IPython.display import Markdown, display, update_display\n",
    "from openai import OpenAI"
   ]
  },
  {
   "cell_type": "code",
   "execution_count": 12,
   "id": "4a456906-915a-4bfd-bb9d-57e505c5093f",
   "metadata": {},
   "outputs": [
    {
     "name": "stdout",
     "output_type": "stream",
     "text": [
      "API key looks good so far\n"
     ]
    }
   ],
   "source": [
    "# constants\n",
    "load_dotenv(override=True)\n",
    "api_key = os.getenv('OPENAI_API_KEY')\n",
    "\n",
    "if api_key and api_key.startswith('sk-proj-') and len(api_key)>10:\n",
    "    print(\"API key looks good so far\")\n",
    "else:\n",
    "    print(\"There might be a problem with your API key? Please visit the troubleshooting notebook!\")\n",
    "MODEL_GPT = 'gpt-4o-mini'\n",
    "MODEL_LLAMA = 'llama3.2'"
   ]
  },
  {
   "cell_type": "code",
   "execution_count": 13,
   "id": "a8d7923c-5f28-4c30-8556-342d7c8497c1",
   "metadata": {},
   "outputs": [],
   "source": [
    "# set up environment\n",
    "load_dotenv()\n",
    "openai = OpenAI()"
   ]
  },
  {
   "cell_type": "code",
   "execution_count": 14,
   "id": "3f0d0137-52b0-47a8-81a8-11a90a010798",
   "metadata": {},
   "outputs": [],
   "source": [
    "# here is the question; type over this to ask something new\n",
    "\n",
    "question = \"\"\"\n",
    "Please explain what this code does and why:\n",
    "yield from {book.get(\"author\") for book in books if book.get(\"author\")}\n",
    "\"\"\""
   ]
  },
  {
   "cell_type": "code",
   "execution_count": 15,
   "id": "7d57cba6-ecac-4532-bda7-c1f6f4d36d88",
   "metadata": {},
   "outputs": [],
   "source": [
    "# prompts\n",
    "system_prompt = \"You are a helpful technical tutor who answers questions about python code, software engineering, data science and LLMs\"\n",
    "user_prompt = \"Please give a detailed explanation to the following question: \" + question"
   ]
  },
  {
   "cell_type": "code",
   "execution_count": 16,
   "id": "122bc9f7-77ca-4237-9a7c-1d62a639b460",
   "metadata": {},
   "outputs": [],
   "source": [
    "# messages\n",
    "\n",
    "messages = [\n",
    "    {\"role\": \"system\", \"content\": system_prompt},\n",
    "    {\"role\": \"user\", \"content\": user_prompt}\n",
    "]"
   ]
  },
  {
   "cell_type": "code",
   "execution_count": 17,
   "id": "60ce7000-a4a5-4cce-a261-e75ef45063b4",
   "metadata": {},
   "outputs": [
    {
     "data": {
      "text/markdown": [
       "The code snippet you provided utilizes a Python construct called a generator expression along with the `yield from` statement. Let’s break down the components step by step to understand what it does and why it might be used.\n",
       "\n",
       "### Breakdown of the Code\n",
       "\n",
       "1. **`{... for ... if ...}`**:\n",
       "    - This part of the code is set notation which is used to create a set comprehension. The specific expression is `{book.get(\"author\") for book in books if book.get(\"author\")}`.\n",
       "    - It iterates over a collection called `books`, where each element is assumed to be a dictionary (representing a book).\n",
       "  \n",
       "2. **`book.get(\"author\")`**:\n",
       "    - For each `book` in the `books` collection, it attempts to retrieve the value associated with the `\"author\"` key using the `.get()` method.\n",
       "    - The `.get()` method is beneficial because it returns `None` (or a specified default value) if the key is not found, instead of raising a KeyError. This is particularly important for safely accessing dictionary keys that may not always exist.\n",
       "\n",
       "3. **`if book.get(\"author\")`**:\n",
       "    - This filters the comprehension such that only books that have an `\"author\"` key with a truthy value (non-empty, not None) are included in the resulting set.\n",
       "    - If a book does not have an author or if the author’s name is an empty string, it will not be included in the set.\n",
       "\n",
       "4. **Set Comprehension**:\n",
       "    - The `{ ... }` around the expression indicates that we are creating a set, which inherently shows no duplicate values will be stored. Therefore, even if multiple books have the same author, the result will contain only unique authors.\n",
       "\n",
       "5. **`yield from`**:\n",
       "    - The `yield from` syntax is used in generator functions to yield all values from an iterable (in this case, the set created by the set comprehension).\n",
       "    - This means that instead of just yielding the set itself, the generator will yield each unique value (author name) from the set one at a time.\n",
       "  \n",
       "### Purpose of the Code\n",
       "\n",
       "In summary, the code does the following:\n",
       "1. Creates a set of unique authors by iterating through a collection of books, filtering out any entries that don’t have valid author names.\n",
       "2. Uses `yield from` to return each author from the generator, which allows the function that contains this code to be used in a context where it can yield values one at a time, such as in a for-loop or another generator function.\n",
       "\n",
       "### Example Scenario\n",
       "\n",
       "Here’s a hypothetical example to illustrate this:\n",
       "\n",
       "python\n",
       "books = [\n",
       "    {'title': 'Book 1', 'author': 'Alice'},\n",
       "    {'title': 'Book 2', 'author': 'Bob'},\n",
       "    {'title': 'Book 3'}, # No author field\n",
       "    {'title': 'Book 4', 'author': 'Alice'}, # Duplicate author\n",
       "    {'title': 'Book 5', 'author': ''} # Empty author\n",
       "]\n",
       "\n",
       "def get_authors(books):\n",
       "    yield from {book.get(\"author\") for book in books if book.get(\"author\")}\n",
       "\n",
       "for author in get_authors(books):\n",
       "    print(author)\n",
       "\n",
       "\n",
       "Output will be:\n",
       "\n",
       "Alice\n",
       "Bob\n",
       "\n",
       "\n",
       "### Conclusion\n",
       "\n",
       "The code efficiently gathers and outputs unique author names from a list of book dictionaries while safely handling missing or invalid author entries, ultimately providing a simple way to extract relevant data from a collection of dictionaries."
      ],
      "text/plain": [
       "<IPython.core.display.Markdown object>"
      ]
     },
     "metadata": {},
     "output_type": "display_data"
    }
   ],
   "source": [
    "# Get gpt-4o-mini to answer, with streaming\n",
    "\n",
    "stream = openai.chat.completions.create(model=MODEL_GPT, messages=messages,stream=True)\n",
    "    \n",
    "response = \"\"\n",
    "display_handle = display(Markdown(\"\"), display_id=True)\n",
    "for chunk in stream:\n",
    "    response += chunk.choices[0].delta.content or ''\n",
    "    response = response.replace(\"```\",\"\").replace(\"markdown\", \"\")\n",
    "    update_display(Markdown(response), display_id=display_handle.display_id)"
   ]
  },
  {
   "cell_type": "code",
   "execution_count": 18,
   "id": "8f7c8ea8-4082-4ad0-8751-3301adcf6538",
   "metadata": {},
   "outputs": [
    {
     "data": {
      "text/markdown": [
       "**Explanation of the Code**\n",
       "\n",
       "The given code is using Python's Generator Expression feature, which allows you to create iterators without having to explicitly define a function.\n",
       "\n",
       "Let's break down the code:\n",
       "\n",
       "* `yield from`: This keyword is used to delegate sub-expression values to another generator or iterator. It's equivalent to saying \"delegate this expression to another generator\".\n",
       "* `{book.get(\"author\") for book in books if book.get(\"author\")}`: This is a generator expression, which is similar to a list comprehension but returns an iterator instead of a list.\n",
       "\t+ `for book in books`: Iterates over each item in the `books` collection (assuming it's an iterable like a list or tuple).\n",
       "\t+ `if book.get(\"author\")`: Filters out any items from the iteration that don't have an \"author\" key present in their dictionary representation. The `.get()` method is used to access the value associated with the key, and returns `None` if the key doesn't exist.\n",
       "\t+ `book.get(\"author\")`: Retrieves the value of the \"author\" key for each item that passes the filter.\n",
       "\n",
       "**How it Works**\n",
       "\n",
       "When you run this code, Python will iterate over the `books` collection, apply the filter, and then yield the author names one by one. However, instead of storing these values in a list or other data structure, Python returns an iterator directly. This has several benefits:\n",
       "\n",
       "* **Memory efficiency**: Because it only yields individual values as needed, this code won't consume excessive memory like building a large list would.\n",
       "* **Lazy evaluation**: The author names are not computed until you actually need them, which can be beneficial if computing the names is an expensive operation.\n",
       "\n",
       "**Example Usage**\n",
       "\n",
       "Here's an example usage of this generator expression:\n",
       "```python\n",
       "books = [\n",
       "    {\"title\": \"Book 1\", \"author\": \"John Doe\"},\n",
       "    {\"title\": \"Book 2\", \"author\": None},\n",
       "    {\"title\": \"Book 3\", \"author\": \"Jane Smith\"}\n",
       "]\n",
       "\n",
       "for author in yield from {book.get(\"author\") for book in books if book.get(\"author\")]:\n",
       "    print(author)\n",
       "```\n",
       "Output:\n",
       "```\n",
       "John Doe\n",
       "Jane Smith\n",
       "```\n",
       "Note that the `yield from` expression doesn't actually return a generator object; it's more like a shortcut to create an iterator directly. However, you can use this code as part of another function or loop to process the yielded values.\n",
       "\n",
       "**Conclusion**\n",
       "\n",
       "In summary, this code uses a generator expression with `yield from` to efficiently yield a sequence of author names while filtering out items without \"author\" keys. This approach is memory-efficient and lazy-evaluates the computation only when needed."
      ],
      "text/plain": [
       "<IPython.core.display.Markdown object>"
      ]
     },
     "metadata": {},
     "output_type": "display_data"
    }
   ],
   "source": [
    "# Get Llama 3.2 to answer\n",
    "response = ollama.chat(model=MODEL_LLAMA, messages=messages)\n",
    "reply = response['message']['content']\n",
    "display(Markdown(reply))"
   ]
  },
  {
   "cell_type": "code",
   "execution_count": null,
   "id": "ff03b674-212c-4b4a-9dab-ff57c75a92b4",
   "metadata": {},
   "outputs": [],
   "source": []
  }
 ],
 "metadata": {
  "kernelspec": {
   "display_name": "Python 3 (ipykernel)",
   "language": "python",
   "name": "python3"
  },
  "language_info": {
   "codemirror_mode": {
    "name": "ipython",
    "version": 3
   },
   "file_extension": ".py",
   "mimetype": "text/x-python",
   "name": "python",
   "nbconvert_exporter": "python",
   "pygments_lexer": "ipython3",
   "version": "3.11.11"
  }
 },
 "nbformat": 4,
 "nbformat_minor": 5
}
